{
 "cells": [
  {
   "cell_type": "code",
   "execution_count": 1,
   "id": "1d0ad587",
   "metadata": {},
   "outputs": [],
   "source": [
    "#Importing necessery libraries\n",
    "\n",
    "import numpy as np \n",
    "import pandas as pd\n",
    "import matplotlib.pyplot as plt\n",
    "import seaborn as sns\n",
    "import datetime\n",
    "\n",
    "import csv\n",
    "import warnings\n",
    "from scipy import stats\n",
    "from pandas.api.types import is_numeric_dtype\n",
    "import matplotlib.pyplot as plt\n",
    "import matplotlib as mpl\n",
    "\n",
    "warnings.filterwarnings('ignore')"
   ]
  },
  {
   "cell_type": "code",
   "execution_count": 2,
   "id": "d9ea28b6",
   "metadata": {
    "scrolled": true
   },
   "outputs": [],
   "source": [
    "#importing data\n",
    "\n",
    "df = pd.read_csv(\"D:/Internship/Data Glacier/Cross Selling/Test.csv\")\n"
   ]
  },
  {
   "cell_type": "code",
   "execution_count": 3,
   "id": "7189ce94",
   "metadata": {},
   "outputs": [
    {
     "data": {
      "text/html": [
       "<div>\n",
       "<style scoped>\n",
       "    .dataframe tbody tr th:only-of-type {\n",
       "        vertical-align: middle;\n",
       "    }\n",
       "\n",
       "    .dataframe tbody tr th {\n",
       "        vertical-align: top;\n",
       "    }\n",
       "\n",
       "    .dataframe thead th {\n",
       "        text-align: right;\n",
       "    }\n",
       "</style>\n",
       "<table border=\"1\" class=\"dataframe\">\n",
       "  <thead>\n",
       "    <tr style=\"text-align: right;\">\n",
       "      <th></th>\n",
       "      <th>fecha_dato</th>\n",
       "      <th>ncodpers</th>\n",
       "      <th>ind_empleado</th>\n",
       "      <th>pais_residencia</th>\n",
       "      <th>sexo</th>\n",
       "      <th>age</th>\n",
       "      <th>fecha_alta</th>\n",
       "      <th>ind_nuevo</th>\n",
       "      <th>antiguedad</th>\n",
       "      <th>indrel</th>\n",
       "      <th>...</th>\n",
       "      <th>indext</th>\n",
       "      <th>conyuemp</th>\n",
       "      <th>canal_entrada</th>\n",
       "      <th>indfall</th>\n",
       "      <th>tipodom</th>\n",
       "      <th>cod_prov</th>\n",
       "      <th>nomprov</th>\n",
       "      <th>ind_actividad_cliente</th>\n",
       "      <th>renta</th>\n",
       "      <th>segmento</th>\n",
       "    </tr>\n",
       "  </thead>\n",
       "  <tbody>\n",
       "    <tr>\n",
       "      <th>0</th>\n",
       "      <td>2016-06-28</td>\n",
       "      <td>15889</td>\n",
       "      <td>F</td>\n",
       "      <td>ES</td>\n",
       "      <td>V</td>\n",
       "      <td>56</td>\n",
       "      <td>1995-01-16</td>\n",
       "      <td>0</td>\n",
       "      <td>256</td>\n",
       "      <td>1</td>\n",
       "      <td>...</td>\n",
       "      <td>N</td>\n",
       "      <td>N</td>\n",
       "      <td>KAT</td>\n",
       "      <td>N</td>\n",
       "      <td>1</td>\n",
       "      <td>28.0</td>\n",
       "      <td>MADRID</td>\n",
       "      <td>1</td>\n",
       "      <td>326124.90</td>\n",
       "      <td>01 - TOP</td>\n",
       "    </tr>\n",
       "    <tr>\n",
       "      <th>1</th>\n",
       "      <td>2016-06-28</td>\n",
       "      <td>1170544</td>\n",
       "      <td>N</td>\n",
       "      <td>ES</td>\n",
       "      <td>H</td>\n",
       "      <td>36</td>\n",
       "      <td>2013-08-28</td>\n",
       "      <td>0</td>\n",
       "      <td>34</td>\n",
       "      <td>1</td>\n",
       "      <td>...</td>\n",
       "      <td>N</td>\n",
       "      <td>NaN</td>\n",
       "      <td>KAT</td>\n",
       "      <td>N</td>\n",
       "      <td>1</td>\n",
       "      <td>3.0</td>\n",
       "      <td>ALICANTE</td>\n",
       "      <td>0</td>\n",
       "      <td>NA</td>\n",
       "      <td>02 - PARTICULARES</td>\n",
       "    </tr>\n",
       "    <tr>\n",
       "      <th>2</th>\n",
       "      <td>2016-06-28</td>\n",
       "      <td>1170545</td>\n",
       "      <td>N</td>\n",
       "      <td>ES</td>\n",
       "      <td>V</td>\n",
       "      <td>22</td>\n",
       "      <td>2013-08-28</td>\n",
       "      <td>0</td>\n",
       "      <td>34</td>\n",
       "      <td>1</td>\n",
       "      <td>...</td>\n",
       "      <td>N</td>\n",
       "      <td>NaN</td>\n",
       "      <td>KHE</td>\n",
       "      <td>N</td>\n",
       "      <td>1</td>\n",
       "      <td>15.0</td>\n",
       "      <td>CORUÑA, A</td>\n",
       "      <td>1</td>\n",
       "      <td>NA</td>\n",
       "      <td>03 - UNIVERSITARIO</td>\n",
       "    </tr>\n",
       "    <tr>\n",
       "      <th>3</th>\n",
       "      <td>2016-06-28</td>\n",
       "      <td>1170547</td>\n",
       "      <td>N</td>\n",
       "      <td>ES</td>\n",
       "      <td>H</td>\n",
       "      <td>22</td>\n",
       "      <td>2013-08-28</td>\n",
       "      <td>0</td>\n",
       "      <td>34</td>\n",
       "      <td>1</td>\n",
       "      <td>...</td>\n",
       "      <td>N</td>\n",
       "      <td>NaN</td>\n",
       "      <td>KHE</td>\n",
       "      <td>N</td>\n",
       "      <td>1</td>\n",
       "      <td>8.0</td>\n",
       "      <td>BARCELONA</td>\n",
       "      <td>0</td>\n",
       "      <td>148402.98</td>\n",
       "      <td>03 - UNIVERSITARIO</td>\n",
       "    </tr>\n",
       "    <tr>\n",
       "      <th>4</th>\n",
       "      <td>2016-06-28</td>\n",
       "      <td>1170548</td>\n",
       "      <td>N</td>\n",
       "      <td>ES</td>\n",
       "      <td>H</td>\n",
       "      <td>22</td>\n",
       "      <td>2013-08-28</td>\n",
       "      <td>0</td>\n",
       "      <td>34</td>\n",
       "      <td>1</td>\n",
       "      <td>...</td>\n",
       "      <td>N</td>\n",
       "      <td>NaN</td>\n",
       "      <td>KHE</td>\n",
       "      <td>N</td>\n",
       "      <td>1</td>\n",
       "      <td>7.0</td>\n",
       "      <td>BALEARS, ILLES</td>\n",
       "      <td>0</td>\n",
       "      <td>106885.80</td>\n",
       "      <td>03 - UNIVERSITARIO</td>\n",
       "    </tr>\n",
       "  </tbody>\n",
       "</table>\n",
       "<p>5 rows × 24 columns</p>\n",
       "</div>"
      ],
      "text/plain": [
       "   fecha_dato  ncodpers ind_empleado pais_residencia sexo  age  fecha_alta  \\\n",
       "0  2016-06-28     15889            F              ES    V   56  1995-01-16   \n",
       "1  2016-06-28   1170544            N              ES    H   36  2013-08-28   \n",
       "2  2016-06-28   1170545            N              ES    V   22  2013-08-28   \n",
       "3  2016-06-28   1170547            N              ES    H   22  2013-08-28   \n",
       "4  2016-06-28   1170548            N              ES    H   22  2013-08-28   \n",
       "\n",
       "   ind_nuevo  antiguedad  indrel  ... indext  conyuemp canal_entrada indfall  \\\n",
       "0          0         256       1  ...      N         N           KAT       N   \n",
       "1          0          34       1  ...      N       NaN           KAT       N   \n",
       "2          0          34       1  ...      N       NaN           KHE       N   \n",
       "3          0          34       1  ...      N       NaN           KHE       N   \n",
       "4          0          34       1  ...      N       NaN           KHE       N   \n",
       "\n",
       "  tipodom cod_prov         nomprov ind_actividad_cliente        renta  \\\n",
       "0       1     28.0          MADRID                     1    326124.90   \n",
       "1       1      3.0        ALICANTE                     0           NA   \n",
       "2       1     15.0       CORUÑA, A                     1           NA   \n",
       "3       1      8.0       BARCELONA                     0    148402.98   \n",
       "4       1      7.0  BALEARS, ILLES                     0    106885.80   \n",
       "\n",
       "             segmento  \n",
       "0            01 - TOP  \n",
       "1   02 - PARTICULARES  \n",
       "2  03 - UNIVERSITARIO  \n",
       "3  03 - UNIVERSITARIO  \n",
       "4  03 - UNIVERSITARIO  \n",
       "\n",
       "[5 rows x 24 columns]"
      ]
     },
     "execution_count": 3,
     "metadata": {},
     "output_type": "execute_result"
    }
   ],
   "source": [
    "df.head(5)"
   ]
  },
  {
   "cell_type": "code",
   "execution_count": 4,
   "id": "c49b2e61",
   "metadata": {},
   "outputs": [
    {
     "data": {
      "text/plain": [
       "(929615, 24)"
      ]
     },
     "execution_count": 4,
     "metadata": {},
     "output_type": "execute_result"
    }
   ],
   "source": [
    "df.shape"
   ]
  },
  {
   "cell_type": "code",
   "execution_count": 5,
   "id": "3191443d",
   "metadata": {},
   "outputs": [],
   "source": [
    "#translating from spanish to english\n",
    "\n",
    "dict = {'fecha_dato' : 'Date',\n",
    "       'ncodpers' : 'Customer_Code',\n",
    "       'ind_empleado' : 'Employee_Index',\n",
    "       'pais_residencia' : 'Country',\n",
    "       'sexo' : 'Gender',\n",
    "       'age' : 'Age',\n",
    "       'fecha_alta' : 'Customer_Join_Date',\n",
    "       'ind_nuevo' : 'Customer_Index',\n",
    "       'antiguedad' : 'Customer_Seniority',\n",
    "       'indrel' : 'Primary_Customer',\n",
    "       'ult_fec_cli_1t' : 'Customer_Leave_Date',\n",
    "       'indrel_1mes' : 'Customer_Type',\n",
    "       'tiprel_1mes' : 'Customer_Relation',\n",
    "       'indresi' : 'Residence_Index',\n",
    "       'indext' : 'Foriegner_Index',\n",
    "       'conyuemp' : 'Spouse_Index',\n",
    "       'canal_entrada' : 'Channel_Used',\n",
    "       'indfall' : 'Deceased_Index',\n",
    "       'tipodom' : 'Primary_Address',\n",
    "       'cod_prov' : 'Customer_Address',\n",
    "       'nomprov' : 'Province',\n",
    "       'ind_actividad_cliente' : 'Activity_Index',\n",
    "       'renta' : 'Gross_Income',\n",
    "       'segmento' : 'Segmentation',\n",
    "       'ind_ahor_fin_ult1' : 'Saving_Account',\n",
    "        'ind_aval_fin_ult1' : 'Guarantees',\n",
    "        'ind_cco_fin_ult1' : 'Current_Accounts',\n",
    "        'ind_cder_fin_ult1' : 'Derivative_Account',\n",
    "        'ind_cno_fin_ult1' : 'Payroll_Account',\n",
    "        'ind_ctju_fin_ult1' : 'Junior_Account',\n",
    "        'ind_ctma_fin_ult1' : 'More_Private_Account',\n",
    "        'ind_ctop_fin_ult1' : 'Private_Account',\n",
    "        'ind_ctpp_fin_ult1' : 'Private_Plus_Account',\n",
    "        'ind_deco_fin_ult1' : 'Short_Term_Deposits',\n",
    "        'ind_deme_fin_ult1' : 'Medium_Term_Deposits',\n",
    "        'ind_dela_fin_ult1' : 'Long_Term_Deposits',\n",
    "        'ind_ecue_fin_ult1' : 'E_Account',\n",
    "        'ind_fond_fin_ult1' : 'Funds',\n",
    "        'ind_hip_fin_ult1' : 'Mortgage',\n",
    "        'ind_plan_fin_ult1' : 'Pensions',\n",
    "        'ind_pres_fin_ult1' : 'Loans',\n",
    "        'ind_reca_fin_ult1' : 'Taxes',\n",
    "        'ind_tjcr_fin_ult1' : 'Credit_Card',\n",
    "        'ind_valo_fin_ult1' : 'Securities',\n",
    "        'ind_viv_fin_ult1' : 'Home_Account',\n",
    "        'ind_nomina_ult1' : 'Payroll',\n",
    "        'ind_nom_pens_ult1' : 'Pensions2',\n",
    "        'ind_recibo_ult1' : 'Direct_Debit'\n",
    "       }\n",
    "\n",
    "df = df.rename(columns = dict)\n",
    "df1=df"
   ]
  },
  {
   "cell_type": "code",
   "execution_count": 6,
   "id": "84a38458",
   "metadata": {},
   "outputs": [
    {
     "data": {
      "text/html": [
       "<div>\n",
       "<style scoped>\n",
       "    .dataframe tbody tr th:only-of-type {\n",
       "        vertical-align: middle;\n",
       "    }\n",
       "\n",
       "    .dataframe tbody tr th {\n",
       "        vertical-align: top;\n",
       "    }\n",
       "\n",
       "    .dataframe thead th {\n",
       "        text-align: right;\n",
       "    }\n",
       "</style>\n",
       "<table border=\"1\" class=\"dataframe\">\n",
       "  <thead>\n",
       "    <tr style=\"text-align: right;\">\n",
       "      <th></th>\n",
       "      <th>Date</th>\n",
       "      <th>Customer_Code</th>\n",
       "      <th>Employee_Index</th>\n",
       "      <th>Country</th>\n",
       "      <th>Gender</th>\n",
       "      <th>Age</th>\n",
       "      <th>Customer_Join_Date</th>\n",
       "      <th>Customer_Index</th>\n",
       "      <th>Customer_Seniority</th>\n",
       "      <th>Primary_Customer</th>\n",
       "      <th>...</th>\n",
       "      <th>Foriegner_Index</th>\n",
       "      <th>Spouse_Index</th>\n",
       "      <th>Channel_Used</th>\n",
       "      <th>Deceased_Index</th>\n",
       "      <th>Primary_Address</th>\n",
       "      <th>Customer_Address</th>\n",
       "      <th>Province</th>\n",
       "      <th>Activity_Index</th>\n",
       "      <th>Gross_Income</th>\n",
       "      <th>Segmentation</th>\n",
       "    </tr>\n",
       "  </thead>\n",
       "  <tbody>\n",
       "    <tr>\n",
       "      <th>0</th>\n",
       "      <td>2016-06-28</td>\n",
       "      <td>15889</td>\n",
       "      <td>F</td>\n",
       "      <td>ES</td>\n",
       "      <td>V</td>\n",
       "      <td>56</td>\n",
       "      <td>1995-01-16</td>\n",
       "      <td>0</td>\n",
       "      <td>256</td>\n",
       "      <td>1</td>\n",
       "      <td>...</td>\n",
       "      <td>N</td>\n",
       "      <td>N</td>\n",
       "      <td>KAT</td>\n",
       "      <td>N</td>\n",
       "      <td>1</td>\n",
       "      <td>28.0</td>\n",
       "      <td>MADRID</td>\n",
       "      <td>1</td>\n",
       "      <td>326124.90</td>\n",
       "      <td>01 - TOP</td>\n",
       "    </tr>\n",
       "    <tr>\n",
       "      <th>1</th>\n",
       "      <td>2016-06-28</td>\n",
       "      <td>1170544</td>\n",
       "      <td>N</td>\n",
       "      <td>ES</td>\n",
       "      <td>H</td>\n",
       "      <td>36</td>\n",
       "      <td>2013-08-28</td>\n",
       "      <td>0</td>\n",
       "      <td>34</td>\n",
       "      <td>1</td>\n",
       "      <td>...</td>\n",
       "      <td>N</td>\n",
       "      <td>NaN</td>\n",
       "      <td>KAT</td>\n",
       "      <td>N</td>\n",
       "      <td>1</td>\n",
       "      <td>3.0</td>\n",
       "      <td>ALICANTE</td>\n",
       "      <td>0</td>\n",
       "      <td>NA</td>\n",
       "      <td>02 - PARTICULARES</td>\n",
       "    </tr>\n",
       "    <tr>\n",
       "      <th>2</th>\n",
       "      <td>2016-06-28</td>\n",
       "      <td>1170545</td>\n",
       "      <td>N</td>\n",
       "      <td>ES</td>\n",
       "      <td>V</td>\n",
       "      <td>22</td>\n",
       "      <td>2013-08-28</td>\n",
       "      <td>0</td>\n",
       "      <td>34</td>\n",
       "      <td>1</td>\n",
       "      <td>...</td>\n",
       "      <td>N</td>\n",
       "      <td>NaN</td>\n",
       "      <td>KHE</td>\n",
       "      <td>N</td>\n",
       "      <td>1</td>\n",
       "      <td>15.0</td>\n",
       "      <td>CORUÑA, A</td>\n",
       "      <td>1</td>\n",
       "      <td>NA</td>\n",
       "      <td>03 - UNIVERSITARIO</td>\n",
       "    </tr>\n",
       "    <tr>\n",
       "      <th>3</th>\n",
       "      <td>2016-06-28</td>\n",
       "      <td>1170547</td>\n",
       "      <td>N</td>\n",
       "      <td>ES</td>\n",
       "      <td>H</td>\n",
       "      <td>22</td>\n",
       "      <td>2013-08-28</td>\n",
       "      <td>0</td>\n",
       "      <td>34</td>\n",
       "      <td>1</td>\n",
       "      <td>...</td>\n",
       "      <td>N</td>\n",
       "      <td>NaN</td>\n",
       "      <td>KHE</td>\n",
       "      <td>N</td>\n",
       "      <td>1</td>\n",
       "      <td>8.0</td>\n",
       "      <td>BARCELONA</td>\n",
       "      <td>0</td>\n",
       "      <td>148402.98</td>\n",
       "      <td>03 - UNIVERSITARIO</td>\n",
       "    </tr>\n",
       "    <tr>\n",
       "      <th>4</th>\n",
       "      <td>2016-06-28</td>\n",
       "      <td>1170548</td>\n",
       "      <td>N</td>\n",
       "      <td>ES</td>\n",
       "      <td>H</td>\n",
       "      <td>22</td>\n",
       "      <td>2013-08-28</td>\n",
       "      <td>0</td>\n",
       "      <td>34</td>\n",
       "      <td>1</td>\n",
       "      <td>...</td>\n",
       "      <td>N</td>\n",
       "      <td>NaN</td>\n",
       "      <td>KHE</td>\n",
       "      <td>N</td>\n",
       "      <td>1</td>\n",
       "      <td>7.0</td>\n",
       "      <td>BALEARS, ILLES</td>\n",
       "      <td>0</td>\n",
       "      <td>106885.80</td>\n",
       "      <td>03 - UNIVERSITARIO</td>\n",
       "    </tr>\n",
       "  </tbody>\n",
       "</table>\n",
       "<p>5 rows × 24 columns</p>\n",
       "</div>"
      ],
      "text/plain": [
       "         Date  Customer_Code Employee_Index Country Gender  Age  \\\n",
       "0  2016-06-28          15889              F      ES      V   56   \n",
       "1  2016-06-28        1170544              N      ES      H   36   \n",
       "2  2016-06-28        1170545              N      ES      V   22   \n",
       "3  2016-06-28        1170547              N      ES      H   22   \n",
       "4  2016-06-28        1170548              N      ES      H   22   \n",
       "\n",
       "  Customer_Join_Date  Customer_Index  Customer_Seniority  Primary_Customer  \\\n",
       "0         1995-01-16               0                 256                 1   \n",
       "1         2013-08-28               0                  34                 1   \n",
       "2         2013-08-28               0                  34                 1   \n",
       "3         2013-08-28               0                  34                 1   \n",
       "4         2013-08-28               0                  34                 1   \n",
       "\n",
       "   ... Foriegner_Index  Spouse_Index Channel_Used Deceased_Index  \\\n",
       "0  ...               N             N          KAT              N   \n",
       "1  ...               N           NaN          KAT              N   \n",
       "2  ...               N           NaN          KHE              N   \n",
       "3  ...               N           NaN          KHE              N   \n",
       "4  ...               N           NaN          KHE              N   \n",
       "\n",
       "  Primary_Address Customer_Address        Province Activity_Index  \\\n",
       "0               1             28.0          MADRID              1   \n",
       "1               1              3.0        ALICANTE              0   \n",
       "2               1             15.0       CORUÑA, A              1   \n",
       "3               1              8.0       BARCELONA              0   \n",
       "4               1              7.0  BALEARS, ILLES              0   \n",
       "\n",
       "   Gross_Income        Segmentation  \n",
       "0     326124.90            01 - TOP  \n",
       "1            NA   02 - PARTICULARES  \n",
       "2            NA  03 - UNIVERSITARIO  \n",
       "3     148402.98  03 - UNIVERSITARIO  \n",
       "4     106885.80  03 - UNIVERSITARIO  \n",
       "\n",
       "[5 rows x 24 columns]"
      ]
     },
     "execution_count": 6,
     "metadata": {},
     "output_type": "execute_result"
    }
   ],
   "source": [
    "df.head()"
   ]
  },
  {
   "cell_type": "code",
   "execution_count": 7,
   "id": "6475839b",
   "metadata": {},
   "outputs": [
    {
     "name": "stdout",
     "output_type": "stream",
     "text": [
      "<class 'pandas.core.frame.DataFrame'>\n",
      "RangeIndex: 929615 entries, 0 to 929614\n",
      "Data columns (total 24 columns):\n",
      " #   Column               Non-Null Count   Dtype  \n",
      "---  ------               --------------   -----  \n",
      " 0   Date                 929615 non-null  object \n",
      " 1   Customer_Code        929615 non-null  int64  \n",
      " 2   Employee_Index       929615 non-null  object \n",
      " 3   Country              929615 non-null  object \n",
      " 4   Gender               929610 non-null  object \n",
      " 5   Age                  929615 non-null  int64  \n",
      " 6   Customer_Join_Date   929615 non-null  object \n",
      " 7   Customer_Index       929615 non-null  int64  \n",
      " 8   Customer_Seniority   929615 non-null  int64  \n",
      " 9   Primary_Customer     929615 non-null  int64  \n",
      " 10  Customer_Leave_Date  1683 non-null    object \n",
      " 11  Customer_Type        929592 non-null  float64\n",
      " 12  Customer_Relation    929592 non-null  object \n",
      " 13  Residence_Index      929615 non-null  object \n",
      " 14  Foriegner_Index      929615 non-null  object \n",
      " 15  Spouse_Index         104 non-null     object \n",
      " 16  Channel_Used         927534 non-null  object \n",
      " 17  Deceased_Index       929615 non-null  object \n",
      " 18  Primary_Address      929615 non-null  int64  \n",
      " 19  Customer_Address     925619 non-null  float64\n",
      " 20  Province             925619 non-null  object \n",
      " 21  Activity_Index       929615 non-null  int64  \n",
      " 22  Gross_Income         929615 non-null  object \n",
      " 23  Segmentation         927367 non-null  object \n",
      "dtypes: float64(2), int64(7), object(15)\n",
      "memory usage: 170.2+ MB\n"
     ]
    }
   ],
   "source": [
    "df.info()"
   ]
  },
  {
   "cell_type": "code",
   "execution_count": 8,
   "id": "6dd37b4c",
   "metadata": {},
   "outputs": [],
   "source": [
    "#changing datatypes\n",
    "\n",
    "for column in [\"Employee_Index\", \"Country\", \"Gender\"]:\n",
    "    df[column] = df[column].astype('category')"
   ]
  },
  {
   "cell_type": "code",
   "execution_count": 9,
   "id": "5fda0cd7",
   "metadata": {},
   "outputs": [],
   "source": [
    "for column in [\"Date\", \"Customer_Join_Date\", \"Customer_Leave_Date\"]:\n",
    "    df[column] = df[column].astype('datetime64[ns]')"
   ]
  },
  {
   "cell_type": "code",
   "execution_count": 10,
   "id": "02efe4a4",
   "metadata": {},
   "outputs": [
    {
     "name": "stdout",
     "output_type": "stream",
     "text": [
      "NaT           927932\n",
      "2016-06-01       138\n",
      "2016-06-10       133\n",
      "2016-06-03       110\n",
      "2016-06-07       102\n",
      "2016-06-06       101\n",
      "2016-06-13        84\n",
      "2016-06-20        84\n",
      "2016-06-15        78\n",
      "2016-06-17        78\n",
      "2016-06-23        78\n",
      "2016-06-14        76\n",
      "2016-06-02        75\n",
      "2016-06-09        75\n",
      "2016-06-22        72\n",
      "2016-06-21        70\n",
      "2016-06-24        64\n",
      "2016-06-16        62\n",
      "2016-06-08        60\n",
      "2016-06-27        58\n",
      "2016-06-28        49\n",
      "2016-06-29        36\n",
      "Name: Customer_Leave_Date, dtype: int64\n"
     ]
    }
   ],
   "source": [
    "print(df['Customer_Leave_Date'].value_counts(dropna = False))"
   ]
  },
  {
   "cell_type": "code",
   "execution_count": 11,
   "id": "fa507a57",
   "metadata": {},
   "outputs": [],
   "source": [
    "#updating customer leave date\n",
    "end = pd.to_datetime('2016-05-28')\n",
    "df['Customer_Leave_Date'] = df['Customer_Leave_Date'].fillna(end)"
   ]
  },
  {
   "cell_type": "code",
   "execution_count": 12,
   "id": "038dce7a",
   "metadata": {},
   "outputs": [
    {
     "name": "stdout",
     "output_type": "stream",
     "text": [
      "2016-05-28    927932\n",
      "2016-06-01       138\n",
      "2016-06-10       133\n",
      "2016-06-03       110\n",
      "2016-06-07       102\n",
      "2016-06-06       101\n",
      "2016-06-13        84\n",
      "2016-06-20        84\n",
      "2016-06-15        78\n",
      "2016-06-17        78\n",
      "2016-06-23        78\n",
      "2016-06-14        76\n",
      "2016-06-02        75\n",
      "2016-06-09        75\n",
      "2016-06-22        72\n",
      "2016-06-21        70\n",
      "2016-06-24        64\n",
      "2016-06-16        62\n",
      "2016-06-08        60\n",
      "2016-06-27        58\n",
      "2016-06-28        49\n",
      "2016-06-29        36\n",
      "Name: Customer_Leave_Date, dtype: int64\n"
     ]
    }
   ],
   "source": [
    "print(df['Customer_Leave_Date'].value_counts(dropna = False))"
   ]
  },
  {
   "cell_type": "code",
   "execution_count": 13,
   "id": "9a45378d",
   "metadata": {},
   "outputs": [
    {
     "data": {
      "text/plain": [
       "Date                   False\n",
       "Customer_Code          False\n",
       "Employee_Index         False\n",
       "Country                False\n",
       "Gender                  True\n",
       "Age                    False\n",
       "Customer_Join_Date     False\n",
       "Customer_Index         False\n",
       "Customer_Seniority     False\n",
       "Primary_Customer       False\n",
       "Customer_Leave_Date    False\n",
       "Customer_Type           True\n",
       "Customer_Relation       True\n",
       "Residence_Index        False\n",
       "Foriegner_Index        False\n",
       "Spouse_Index            True\n",
       "Channel_Used            True\n",
       "Deceased_Index         False\n",
       "Primary_Address        False\n",
       "Customer_Address        True\n",
       "Province                True\n",
       "Activity_Index         False\n",
       "Gross_Income           False\n",
       "Segmentation            True\n",
       "dtype: bool"
      ]
     },
     "execution_count": 13,
     "metadata": {},
     "output_type": "execute_result"
    }
   ],
   "source": [
    "#Removing all the rows with NA values\n",
    "\n",
    "df.isna().any()\n"
   ]
  },
  {
   "cell_type": "code",
   "execution_count": 14,
   "id": "c2fbdb65",
   "metadata": {},
   "outputs": [
    {
     "name": "stdout",
     "output_type": "stream",
     "text": [
      "V      504515\n",
      "H      425095\n",
      "NaN         5\n",
      "Name: Gender, dtype: int64\n"
     ]
    }
   ],
   "source": [
    "print(df['Gender'].value_counts(dropna = False))"
   ]
  },
  {
   "cell_type": "code",
   "execution_count": 15,
   "id": "6c6284e6",
   "metadata": {},
   "outputs": [],
   "source": [
    "from random import choice\n",
    "\n",
    "mask = df[\"Gender\"].isna()\n",
    "\n",
    "df.loc[mask,[\"Gender\"]] = df.loc[mask,[\"Gender\"]].applymap(lambda _: choice([\"V\",\"H\"]))"
   ]
  },
  {
   "cell_type": "code",
   "execution_count": 16,
   "id": "898aba44",
   "metadata": {},
   "outputs": [
    {
     "name": "stdout",
     "output_type": "stream",
     "text": [
      "V    504517\n",
      "H    425098\n",
      "Name: Gender, dtype: int64\n"
     ]
    }
   ],
   "source": [
    "print(df['Gender'].value_counts(dropna = False))\n"
   ]
  },
  {
   "cell_type": "code",
   "execution_count": 17,
   "id": "24f27b0c",
   "metadata": {},
   "outputs": [],
   "source": [
    "df = df.replace({'Gender':{'H':'Male', 'V': 'Female'}})"
   ]
  },
  {
   "cell_type": "code",
   "execution_count": 18,
   "id": "cbb38f05",
   "metadata": {},
   "outputs": [
    {
     "name": "stdout",
     "output_type": "stream",
     "text": [
      "1.0    929565\n",
      "3.0        27\n",
      "NaN        23\n",
      "Name: Customer_Type, dtype: int64\n"
     ]
    }
   ],
   "source": [
    "print(df['Customer_Type'].value_counts(dropna = False))"
   ]
  },
  {
   "cell_type": "code",
   "execution_count": 19,
   "id": "5bb8b2e5",
   "metadata": {},
   "outputs": [],
   "source": [
    "df = df.dropna(subset = ['Customer_Type'])"
   ]
  },
  {
   "cell_type": "code",
   "execution_count": 20,
   "id": "b2eea16c",
   "metadata": {},
   "outputs": [
    {
     "data": {
      "text/plain": [
       "Primary Customer           929565\n",
       "Former Primary Customer        27\n",
       "Name: Customer_Type, dtype: int64"
      ]
     },
     "execution_count": 20,
     "metadata": {},
     "output_type": "execute_result"
    }
   ],
   "source": [
    "df = df.astype(object).replace({'Customer_Type':{1.0:'Primary Customer', 1: 'Primary Customer', 2.0: 'Co-Owner', 2: 'Co-Owner', 3.0: 'Former Primary Customer', 3: 'Former Primary Customer', 4.0: 'Former Co-Owner', 4: 'Former Co-Owner', 'P': 'Potential Customer'}})\n",
    "plot = df['Customer_Type'].value_counts()\n",
    "plot"
   ]
  },
  {
   "cell_type": "code",
   "execution_count": 21,
   "id": "c7c55c73",
   "metadata": {},
   "outputs": [],
   "source": [
    "plot.to_csv('Customer Type.csv')"
   ]
  },
  {
   "cell_type": "code",
   "execution_count": 22,
   "id": "08239126",
   "metadata": {},
   "outputs": [
    {
     "name": "stdout",
     "output_type": "stream",
     "text": [
      "I    535943\n",
      "A    393622\n",
      "P        27\n",
      "Name: Customer_Relation, dtype: int64\n"
     ]
    }
   ],
   "source": [
    "print(df['Customer_Relation'].value_counts(dropna = False))"
   ]
  },
  {
   "cell_type": "code",
   "execution_count": 23,
   "id": "4a333020",
   "metadata": {},
   "outputs": [],
   "source": [
    "df = df.replace({'Customer_Relation':{'I': 'Inactive', 'A': 'Active', 'P': 'Former Customer', 'R': 'Potential'}})"
   ]
  },
  {
   "cell_type": "code",
   "execution_count": 24,
   "id": "6a79b3a7",
   "metadata": {},
   "outputs": [
    {
     "data": {
      "text/plain": [
       "Inactive           535943\n",
       "Active             393622\n",
       "Former Customer        27\n",
       "Name: Customer_Relation, dtype: int64"
      ]
     },
     "execution_count": 24,
     "metadata": {},
     "output_type": "execute_result"
    }
   ],
   "source": [
    "relation = df['Customer_Relation'].value_counts(dropna = False)\n",
    "relation"
   ]
  },
  {
   "cell_type": "code",
   "execution_count": 25,
   "id": "7edadeb0",
   "metadata": {},
   "outputs": [],
   "source": [
    "relation.to_csv('Customer Relation.csv')"
   ]
  },
  {
   "cell_type": "code",
   "execution_count": 26,
   "id": "03e3e1ba",
   "metadata": {},
   "outputs": [
    {
     "name": "stdout",
     "output_type": "stream",
     "text": [
      "NaN    929488\n",
      "N         103\n",
      "S           1\n",
      "Name: Spouse_Index, dtype: int64\n"
     ]
    }
   ],
   "source": [
    "print(df['Spouse_Index'].value_counts(dropna = False))"
   ]
  },
  {
   "cell_type": "code",
   "execution_count": 27,
   "id": "45914795",
   "metadata": {},
   "outputs": [],
   "source": [
    "df['Spouse_Index'] = df['Spouse_Index'].fillna(0)"
   ]
  },
  {
   "cell_type": "code",
   "execution_count": 28,
   "id": "b7906b5f",
   "metadata": {},
   "outputs": [],
   "source": [
    "df = df.replace({'Spouse_Index':{0: 'Not Applicable', 'N': 'No', 'S': 'Yes'}})"
   ]
  },
  {
   "cell_type": "code",
   "execution_count": 29,
   "id": "fe807009",
   "metadata": {},
   "outputs": [
    {
     "name": "stdout",
     "output_type": "stream",
     "text": [
      "Not Applicable    929488\n",
      "No                   103\n",
      "Yes                    1\n",
      "Name: Spouse_Index, dtype: int64\n"
     ]
    }
   ],
   "source": [
    "print(df['Spouse_Index'].value_counts(dropna = False))"
   ]
  },
  {
   "cell_type": "code",
   "execution_count": 30,
   "id": "63dfb287",
   "metadata": {},
   "outputs": [
    {
     "name": "stdout",
     "output_type": "stream",
     "text": [
      "KHE    251665\n",
      "KAT    205833\n",
      "KFC    200697\n",
      "KHQ     74969\n",
      "KHM     33362\n",
      "        ...  \n",
      "KDB         1\n",
      "KGN         1\n",
      "025         1\n",
      "KHR         1\n",
      "KDL         1\n",
      "Name: Channel_Used, Length: 163, dtype: int64\n"
     ]
    }
   ],
   "source": [
    "print(df['Channel_Used'].value_counts(dropna = False))"
   ]
  },
  {
   "cell_type": "code",
   "execution_count": 31,
   "id": "18fa26e4",
   "metadata": {},
   "outputs": [
    {
     "name": "stdout",
     "output_type": "stream",
     "text": [
      "1    929592\n",
      "Name: Primary_Address, dtype: int64\n"
     ]
    }
   ],
   "source": [
    "print(df['Primary_Address'].value_counts(dropna = False))\n"
   ]
  },
  {
   "cell_type": "code",
   "execution_count": 32,
   "id": "57d82c8f",
   "metadata": {},
   "outputs": [
    {
     "data": {
      "text/plain": [
       "0         28.0\n",
       "1          3.0\n",
       "2         15.0\n",
       "3          8.0\n",
       "4          7.0\n",
       "          ... \n",
       "929610    28.0\n",
       "929611    26.0\n",
       "929612    33.0\n",
       "929613    33.0\n",
       "929614    45.0\n",
       "Name: Customer_Address, Length: 929592, dtype: float64"
      ]
     },
     "execution_count": 32,
     "metadata": {},
     "output_type": "execute_result"
    }
   ],
   "source": [
    "df['Customer_Address'].fillna(np.random.randint(1.0, 50.0))"
   ]
  },
  {
   "cell_type": "code",
   "execution_count": 33,
   "id": "8e91c54f",
   "metadata": {},
   "outputs": [
    {
     "name": "stdout",
     "output_type": "stream",
     "text": [
      "28.0    298246\n",
      "8.0      88574\n",
      "46.0     47995\n",
      "41.0     40492\n",
      "15.0     28715\n",
      "30.0     27752\n",
      "29.0     24545\n",
      "50.0     23160\n",
      "3.0      22146\n",
      "11.0     19794\n",
      "36.0     18961\n",
      "33.0     18300\n",
      "35.0     16332\n",
      "47.0     16018\n",
      "6.0      12936\n",
      "45.0     12655\n",
      "48.0     12493\n",
      "18.0     12392\n",
      "37.0     11070\n",
      "39.0     10824\n",
      "14.0      9831\n",
      "7.0       9130\n",
      "10.0      8598\n",
      "13.0      8075\n",
      "21.0      8018\n",
      "2.0       7780\n",
      "43.0      7631\n",
      "12.0      7144\n",
      "9.0       6645\n",
      "17.0      6304\n",
      "31.0      6010\n",
      "26.0      5806\n",
      "24.0      5716\n",
      "27.0      5656\n",
      "32.0      5605\n",
      "25.0      5430\n",
      "38.0      5095\n",
      "20.0      4869\n",
      "19.0      4678\n",
      "23.0      4496\n",
      "4.0       4306\n",
      "NaN       3996\n",
      "16.0      3788\n",
      "49.0      3430\n",
      "34.0      3311\n",
      "40.0      2881\n",
      "22.0      2789\n",
      "5.0       2628\n",
      "1.0       2591\n",
      "44.0      1538\n",
      "42.0      1261\n",
      "52.0       643\n",
      "51.0       513\n",
      "Name: Customer_Address, dtype: int64\n"
     ]
    }
   ],
   "source": [
    "print(df['Customer_Address'].value_counts(dropna = False))"
   ]
  },
  {
   "cell_type": "code",
   "execution_count": 34,
   "id": "db398d71",
   "metadata": {},
   "outputs": [],
   "source": [
    "df = df.dropna(subset = ['Customer_Address'])"
   ]
  },
  {
   "cell_type": "code",
   "execution_count": 35,
   "id": "27dc99fc",
   "metadata": {},
   "outputs": [
    {
     "data": {
      "text/plain": [
       "MADRID                    298246\n",
       "BARCELONA                  88574\n",
       "VALENCIA                   47995\n",
       "SEVILLA                    40492\n",
       "CORUÑA, A                  28715\n",
       "MURCIA                     27752\n",
       "MALAGA                     24545\n",
       "ZARAGOZA                   23160\n",
       "ALICANTE                   22146\n",
       "CADIZ                      19794\n",
       "PONTEVEDRA                 18961\n",
       "ASTURIAS                   18300\n",
       "PALMAS, LAS                16332\n",
       "VALLADOLID                 16018\n",
       "BADAJOZ                    12936\n",
       "TOLEDO                     12655\n",
       "BIZKAIA                    12493\n",
       "GRANADA                    12392\n",
       "SALAMANCA                  11070\n",
       "CANTABRIA                  10824\n",
       "CORDOBA                     9831\n",
       "BALEARS, ILLES              9130\n",
       "CACERES                     8598\n",
       "CIUDAD REAL                 8075\n",
       "HUELVA                      8018\n",
       "ALBACETE                    7780\n",
       "TARRAGONA                   7631\n",
       "CASTELLON                   7144\n",
       "BURGOS                      6645\n",
       "GIRONA                      6304\n",
       "NAVARRA                     6010\n",
       "RIOJA, LA                   5806\n",
       "LEON                        5716\n",
       "LUGO                        5656\n",
       "OURENSE                     5605\n",
       "LERIDA                      5430\n",
       "SANTA CRUZ DE TENERIFE      5095\n",
       "GIPUZKOA                    4869\n",
       "GUADALAJARA                 4678\n",
       "JAEN                        4496\n",
       "ALMERIA                     4306\n",
       "CUENCA                      3788\n",
       "ZAMORA                      3430\n",
       "PALENCIA                    3311\n",
       "SEGOVIA                     2881\n",
       "HUESCA                      2789\n",
       "AVILA                       2628\n",
       "ALAVA                       2591\n",
       "TERUEL                      1538\n",
       "SORIA                       1261\n",
       "MELILLA                      643\n",
       "CEUTA                        513\n",
       "Name: Province, dtype: int64"
      ]
     },
     "execution_count": 35,
     "metadata": {},
     "output_type": "execute_result"
    }
   ],
   "source": [
    "province = df['Province'].value_counts(dropna = False)\n",
    "province"
   ]
  },
  {
   "cell_type": "code",
   "execution_count": 36,
   "id": "3640814c",
   "metadata": {},
   "outputs": [],
   "source": [
    "province.to_csv('Province.csv')"
   ]
  },
  {
   "cell_type": "code",
   "execution_count": 37,
   "id": "5a2478d9",
   "metadata": {},
   "outputs": [],
   "source": [
    "#dropping duplicates \n",
    "df = df.drop_duplicates(subset='Customer_Code', keep=\"last\")"
   ]
  },
  {
   "cell_type": "code",
   "execution_count": 38,
   "id": "2b2a0c8a",
   "metadata": {},
   "outputs": [],
   "source": [
    "df.reset_index(inplace=True)"
   ]
  },
  {
   "cell_type": "code",
   "execution_count": 39,
   "id": "b7c6382f",
   "metadata": {},
   "outputs": [],
   "source": [
    "df = df.drop('index', axis = 1)"
   ]
  },
  {
   "cell_type": "code",
   "execution_count": 40,
   "id": "7d8055c5",
   "metadata": {},
   "outputs": [
    {
     "data": {
      "text/html": [
       "<div>\n",
       "<style scoped>\n",
       "    .dataframe tbody tr th:only-of-type {\n",
       "        vertical-align: middle;\n",
       "    }\n",
       "\n",
       "    .dataframe tbody tr th {\n",
       "        vertical-align: top;\n",
       "    }\n",
       "\n",
       "    .dataframe thead th {\n",
       "        text-align: right;\n",
       "    }\n",
       "</style>\n",
       "<table border=\"1\" class=\"dataframe\">\n",
       "  <thead>\n",
       "    <tr style=\"text-align: right;\">\n",
       "      <th></th>\n",
       "      <th>Date</th>\n",
       "      <th>Customer_Code</th>\n",
       "      <th>Employee_Index</th>\n",
       "      <th>Country</th>\n",
       "      <th>Gender</th>\n",
       "      <th>Age</th>\n",
       "      <th>Customer_Join_Date</th>\n",
       "      <th>Customer_Index</th>\n",
       "      <th>Customer_Seniority</th>\n",
       "      <th>Primary_Customer</th>\n",
       "      <th>...</th>\n",
       "      <th>Foriegner_Index</th>\n",
       "      <th>Spouse_Index</th>\n",
       "      <th>Channel_Used</th>\n",
       "      <th>Deceased_Index</th>\n",
       "      <th>Primary_Address</th>\n",
       "      <th>Customer_Address</th>\n",
       "      <th>Province</th>\n",
       "      <th>Activity_Index</th>\n",
       "      <th>Gross_Income</th>\n",
       "      <th>Segmentation</th>\n",
       "    </tr>\n",
       "  </thead>\n",
       "  <tbody>\n",
       "    <tr>\n",
       "      <th>892709</th>\n",
       "      <td>2016-06-28 00:00:00</td>\n",
       "      <td>720152</td>\n",
       "      <td>S</td>\n",
       "      <td>ES</td>\n",
       "      <td>Male</td>\n",
       "      <td>39</td>\n",
       "      <td>2007-09-21 00:00:00</td>\n",
       "      <td>0</td>\n",
       "      <td>105</td>\n",
       "      <td>1</td>\n",
       "      <td>...</td>\n",
       "      <td>N</td>\n",
       "      <td>Not Applicable</td>\n",
       "      <td>KAT</td>\n",
       "      <td>N</td>\n",
       "      <td>1</td>\n",
       "      <td>28.0</td>\n",
       "      <td>MADRID</td>\n",
       "      <td>1</td>\n",
       "      <td>87798.24</td>\n",
       "      <td>01 - TOP</td>\n",
       "    </tr>\n",
       "  </tbody>\n",
       "</table>\n",
       "<p>1 rows × 24 columns</p>\n",
       "</div>"
      ],
      "text/plain": [
       "                       Date Customer_Code Employee_Index Country Gender Age  \\\n",
       "892709  2016-06-28 00:00:00        720152              S      ES   Male  39   \n",
       "\n",
       "         Customer_Join_Date Customer_Index Customer_Seniority  \\\n",
       "892709  2007-09-21 00:00:00              0                105   \n",
       "\n",
       "       Primary_Customer  ... Foriegner_Index    Spouse_Index Channel_Used  \\\n",
       "892709                1  ...               N  Not Applicable          KAT   \n",
       "\n",
       "       Deceased_Index Primary_Address Customer_Address Province  \\\n",
       "892709              N               1             28.0   MADRID   \n",
       "\n",
       "       Activity_Index Gross_Income Segmentation  \n",
       "892709              1     87798.24     01 - TOP  \n",
       "\n",
       "[1 rows x 24 columns]"
      ]
     },
     "execution_count": 40,
     "metadata": {},
     "output_type": "execute_result"
    }
   ],
   "source": [
    "#there is an outlier with Employee Index 'S', that does not exist. \n",
    "df.loc[df['Employee_Index'] == 'S']"
   ]
  },
  {
   "cell_type": "code",
   "execution_count": 41,
   "id": "b418f0ff",
   "metadata": {},
   "outputs": [],
   "source": [
    "i = df.loc[df['Employee_Index'] == 'S'].index\n",
    "df = df.drop(i)"
   ]
  },
  {
   "cell_type": "code",
   "execution_count": 42,
   "id": "df1f2a17",
   "metadata": {},
   "outputs": [
    {
     "data": {
      "text/plain": [
       "Not An Employee      925079\n",
       "Ex Employee             217\n",
       "Employee Relative       152\n",
       "Active Employee         147\n",
       "Name: Employee_Index, dtype: int64"
      ]
     },
     "execution_count": 42,
     "metadata": {},
     "output_type": "execute_result"
    }
   ],
   "source": [
    "#renaming values\n",
    "\n",
    "df = df.replace({'Employee_Index':{'N':'Not An Employee', 'A': 'Active Employee', 'B': 'Ex Employee', 'F': 'Employee Relative'}})\n",
    "plot2 = df['Employee_Index'].value_counts()\n",
    "plot2"
   ]
  },
  {
   "cell_type": "code",
   "execution_count": 43,
   "id": "fc7faf52",
   "metadata": {},
   "outputs": [],
   "source": [
    "plot2.to_csv('Employee Index.csv')"
   ]
  },
  {
   "cell_type": "code",
   "execution_count": 44,
   "id": "90ec922e",
   "metadata": {},
   "outputs": [
    {
     "name": "stdout",
     "output_type": "stream",
     "text": [
      "0    532434\n",
      "1    393161\n",
      "Name: Activity_Index, dtype: int64\n"
     ]
    }
   ],
   "source": [
    "print(df['Activity_Index'].value_counts(dropna = False))"
   ]
  },
  {
   "cell_type": "code",
   "execution_count": 45,
   "id": "c65aab74",
   "metadata": {},
   "outputs": [],
   "source": [
    "df = df.replace({'Activity_Index':{0.0: 'Inactive Customer', 1.0: 'Active Customer'}})"
   ]
  },
  {
   "cell_type": "code",
   "execution_count": 46,
   "id": "d23aaae0",
   "metadata": {},
   "outputs": [
    {
     "name": "stdout",
     "output_type": "stream",
     "text": [
      "02 - PARTICULARES     541881\n",
      "03 - UNIVERSITARIO    345739\n",
      "01 - TOP               35748\n",
      "NaN                     2227\n",
      "Name: Segmentation, dtype: int64\n"
     ]
    }
   ],
   "source": [
    "print(df['Segmentation'].value_counts(dropna = False))"
   ]
  },
  {
   "cell_type": "code",
   "execution_count": 47,
   "id": "453f49f6",
   "metadata": {},
   "outputs": [],
   "source": [
    "df = df.replace({'Segmentation':{'01 - TOP': 'VIP', '02 - PARTICULARES': 'Individuals', '03 - UNIVERSITARIO': 'College Graduate'}})"
   ]
  },
  {
   "cell_type": "code",
   "execution_count": 48,
   "id": "520bbd8f",
   "metadata": {},
   "outputs": [
    {
     "name": "stdout",
     "output_type": "stream",
     "text": [
      "Individuals         541881\n",
      "College Graduate    345739\n",
      "VIP                  35748\n",
      "NaN                   2227\n",
      "Name: Segmentation, dtype: int64\n"
     ]
    }
   ],
   "source": [
    "print(df['Segmentation'].value_counts(dropna = False))"
   ]
  },
  {
   "cell_type": "code",
   "execution_count": 49,
   "id": "9d86e214",
   "metadata": {},
   "outputs": [],
   "source": [
    "from random import choice\n",
    "\n",
    "mask = df[\"Segmentation\"].isna()\n",
    "\n",
    "df.loc[mask,[\"Segmentation\"]] = df.loc[mask,[\"Segmentation\"]].applymap(lambda _: choice([\"Individuals\",\"College Graduate\", \"VIP\"]))"
   ]
  },
  {
   "cell_type": "code",
   "execution_count": 50,
   "id": "d8550bec",
   "metadata": {},
   "outputs": [
    {
     "data": {
      "text/plain": [
       "Individuals         542614\n",
       "College Graduate    346481\n",
       "VIP                  36500\n",
       "Name: Segmentation, dtype: int64"
      ]
     },
     "execution_count": 50,
     "metadata": {},
     "output_type": "execute_result"
    }
   ],
   "source": [
    "segmentation = df['Segmentation'].value_counts(dropna = False)\n",
    "segmentation"
   ]
  },
  {
   "cell_type": "code",
   "execution_count": 51,
   "id": "b096a287",
   "metadata": {},
   "outputs": [
    {
     "data": {
      "image/png": "[encoded data removed]",
      "text/plain": [
       "<Figure size 800x800 with 1 Axes>"
      ]
     },
     "metadata": {},
     "output_type": "display_data"
    }
   ],
   "source": [
    "segmentation.plot.pie(y = segmentation.index, figsize=(8,8), autopct='%.0f%%')\n",
    "plt.show() "
   ]
  },
  {
   "cell_type": "code",
   "execution_count": 52,
   "id": "d5ec92ea",
   "metadata": {},
   "outputs": [
    {
     "name": "stdout",
     "output_type": "stream",
     "text": [
      "0    899734\n",
      "1     25861\n",
      "Name: Customer_Index, dtype: int64\n"
     ]
    }
   ],
   "source": [
    "print(df['Customer_Index'].value_counts(dropna = False))\n"
   ]
  },
  {
   "cell_type": "code",
   "execution_count": 53,
   "id": "3222712c",
   "metadata": {},
   "outputs": [],
   "source": [
    "df = df.replace({'Customer_Index':{0.0: 'Old_Customer', 1.0: 'New_Customer'}})"
   ]
  },
  {
   "cell_type": "code",
   "execution_count": 54,
   "id": "70070c0b",
   "metadata": {},
   "outputs": [
    {
     "data": {
      "text/plain": [
       "Old_Customer    899734\n",
       "New_Customer     25861\n",
       "Name: Customer_Index, dtype: int64"
      ]
     },
     "execution_count": 54,
     "metadata": {},
     "output_type": "execute_result"
    }
   ],
   "source": [
    "plot3 = df['Customer_Index'].value_counts()\n",
    "plot3"
   ]
  },
  {
   "cell_type": "code",
   "execution_count": 55,
   "id": "85f95214",
   "metadata": {},
   "outputs": [],
   "source": [
    "plot3.to_csv('Customer Index.csv')"
   ]
  },
  {
   "cell_type": "code",
   "execution_count": 56,
   "id": "2d7ba610",
   "metadata": {},
   "outputs": [
    {
     "data": {
      "image/png": "[encoded data removed]",
      "text/plain": [
       "<Figure size 800x800 with 1 Axes>"
      ]
     },
     "metadata": {},
     "output_type": "display_data"
    }
   ],
   "source": [
    "plot3.plot.pie(y = plot3.index, figsize=(8,8), title = 'Customer Index', label = '', autopct='%.0f%%')\n",
    "plt.show() "
   ]
  },
  {
   "cell_type": "code",
   "execution_count": 57,
   "id": "99a8c680",
   "metadata": {},
   "outputs": [],
   "source": [
    "df['Customer_Seniority'] = df['Customer_Seniority'].astype('int')"
   ]
  },
  {
   "cell_type": "code",
   "execution_count": 58,
   "id": "8ce51443",
   "metadata": {},
   "outputs": [
    {
     "name": "stdout",
     "output_type": "stream",
     "text": [
      " 8         26332\n",
      " 32        23414\n",
      " 9         22969\n",
      " 20        21105\n",
      " 11        20419\n",
      "           ...  \n",
      " 0           129\n",
      " 257         102\n",
      " 255          84\n",
      " 256          77\n",
      "-999999        3\n",
      "Name: Customer_Seniority, Length: 259, dtype: int64\n"
     ]
    }
   ],
   "source": [
    "print(df['Customer_Seniority'].value_counts(dropna = False))"
   ]
  },
  {
   "cell_type": "code",
   "execution_count": 59,
   "id": "977c9283",
   "metadata": {},
   "outputs": [],
   "source": [
    "df = df.replace({'Customer_Seniority':{-999999: 1}})"
   ]
  },
  {
   "cell_type": "code",
   "execution_count": 60,
   "id": "cf241255",
   "metadata": {},
   "outputs": [
    {
     "data": {
      "text/plain": [
       "8      26332\n",
       "32     23414\n",
       "9      22969\n",
       "20     21105\n",
       "11     20419\n",
       "       ...  \n",
       "254      150\n",
       "0        129\n",
       "257      102\n",
       "255       84\n",
       "256       77\n",
       "Name: Customer_Seniority, Length: 258, dtype: int64"
      ]
     },
     "execution_count": 60,
     "metadata": {},
     "output_type": "execute_result"
    }
   ],
   "source": [
    "seniority = df['Customer_Seniority'].value_counts(dropna = False)\n",
    "seniority"
   ]
  },
  {
   "cell_type": "code",
   "execution_count": 61,
   "id": "9eb37195",
   "metadata": {},
   "outputs": [],
   "source": [
    "seniority.to_csv('Seniority.csv')"
   ]
  },
  {
   "cell_type": "code",
   "execution_count": 62,
   "id": "979d73da",
   "metadata": {},
   "outputs": [
    {
     "name": "stdout",
     "output_type": "stream",
     "text": [
      "1     923915\n",
      "99      1680\n",
      "Name: Primary_Customer, dtype: int64\n"
     ]
    }
   ],
   "source": [
    "print(df['Primary_Customer'].value_counts(dropna = False))\n"
   ]
  },
  {
   "cell_type": "code",
   "execution_count": 63,
   "id": "d06c314e",
   "metadata": {},
   "outputs": [
    {
     "name": "stdout",
     "output_type": "stream",
     "text": [
      "S    925590\n",
      "N         5\n",
      "Name: Residence_Index, dtype: int64\n"
     ]
    }
   ],
   "source": [
    "print(df['Residence_Index'].value_counts(dropna = False))"
   ]
  },
  {
   "cell_type": "code",
   "execution_count": 64,
   "id": "144e8c05",
   "metadata": {},
   "outputs": [],
   "source": [
    "df = df.replace({'Residence_Index':{'S': 'Yes', 'N': 'No'}})"
   ]
  },
  {
   "cell_type": "code",
   "execution_count": 65,
   "id": "0760e63b",
   "metadata": {},
   "outputs": [
    {
     "data": {
      "text/plain": [
       "Yes    925590\n",
       "No          5\n",
       "Name: Residence_Index, dtype: int64"
      ]
     },
     "execution_count": 65,
     "metadata": {},
     "output_type": "execute_result"
    }
   ],
   "source": [
    "residence = df['Residence_Index'].value_counts(dropna = False)\n",
    "residence"
   ]
  },
  {
   "cell_type": "code",
   "execution_count": 66,
   "id": "454d79cc",
   "metadata": {},
   "outputs": [
    {
     "name": "stdout",
     "output_type": "stream",
     "text": [
      "N    882696\n",
      "S     42899\n",
      "Name: Foriegner_Index, dtype: int64\n"
     ]
    }
   ],
   "source": [
    "print(df['Foriegner_Index'].value_counts(dropna = False))"
   ]
  },
  {
   "cell_type": "code",
   "execution_count": 67,
   "id": "07e7a948",
   "metadata": {},
   "outputs": [],
   "source": [
    "df = df.replace({'Foriegner_Index':{'S': 'Yes', 'N': 'No'}})"
   ]
  },
  {
   "cell_type": "code",
   "execution_count": 68,
   "id": "0e130c79",
   "metadata": {},
   "outputs": [
    {
     "name": "stdout",
     "output_type": "stream",
     "text": [
      "No     882696\n",
      "Yes     42899\n",
      "Name: Foriegner_Index, dtype: int64\n"
     ]
    }
   ],
   "source": [
    "print(df['Foriegner_Index'].value_counts(dropna = False))"
   ]
  },
  {
   "cell_type": "code",
   "execution_count": 69,
   "id": "224a0d39",
   "metadata": {},
   "outputs": [
    {
     "name": "stdout",
     "output_type": "stream",
     "text": [
      "Not Applicable    925491\n",
      "No                   103\n",
      "Yes                    1\n",
      "Name: Spouse_Index, dtype: int64\n"
     ]
    }
   ],
   "source": [
    "print(df['Spouse_Index'].value_counts(dropna = False))"
   ]
  },
  {
   "cell_type": "code",
   "execution_count": 70,
   "id": "66477ace",
   "metadata": {},
   "outputs": [],
   "source": [
    "df['Spouse_Index'] = df['Spouse_Index'].fillna(0)"
   ]
  },
  {
   "cell_type": "code",
   "execution_count": 71,
   "id": "2a79cdf3",
   "metadata": {},
   "outputs": [],
   "source": [
    "df = df.replace({'Spouse_Index':{0: 'Not Applicable', 'N': 'No', 'S': 'Yes'}})"
   ]
  },
  {
   "cell_type": "code",
   "execution_count": 72,
   "id": "c47ed330",
   "metadata": {},
   "outputs": [
    {
     "name": "stdout",
     "output_type": "stream",
     "text": [
      "Not Applicable    925491\n",
      "No                   103\n",
      "Yes                    1\n",
      "Name: Spouse_Index, dtype: int64\n"
     ]
    }
   ],
   "source": [
    "print(df['Spouse_Index'].value_counts(dropna = False))"
   ]
  },
  {
   "cell_type": "code",
   "execution_count": 73,
   "id": "d14ed8c6",
   "metadata": {},
   "outputs": [
    {
     "name": "stdout",
     "output_type": "stream",
     "text": [
      "N    923208\n",
      "S      2387\n",
      "Name: Deceased_Index, dtype: int64\n"
     ]
    }
   ],
   "source": [
    "print(df['Deceased_Index'].value_counts(dropna = False))"
   ]
  },
  {
   "cell_type": "code",
   "execution_count": 74,
   "id": "7f89cabe",
   "metadata": {},
   "outputs": [],
   "source": [
    "df = df.replace({'Deceased_Index':{'S': 'Yes', 'N': 'No'}})"
   ]
  },
  {
   "cell_type": "code",
   "execution_count": 75,
   "id": "944a8360",
   "metadata": {},
   "outputs": [
    {
     "name": "stdout",
     "output_type": "stream",
     "text": [
      "No     923208\n",
      "Yes      2387\n",
      "Name: Deceased_Index, dtype: int64\n"
     ]
    }
   ],
   "source": [
    "print(df['Deceased_Index'].value_counts(dropna = False))"
   ]
  },
  {
   "cell_type": "code",
   "execution_count": 76,
   "id": "a7d55c56",
   "metadata": {},
   "outputs": [
    {
     "data": {
      "text/html": [
       "<div>\n",
       "<style scoped>\n",
       "    .dataframe tbody tr th:only-of-type {\n",
       "        vertical-align: middle;\n",
       "    }\n",
       "\n",
       "    .dataframe tbody tr th {\n",
       "        vertical-align: top;\n",
       "    }\n",
       "\n",
       "    .dataframe thead th {\n",
       "        text-align: right;\n",
       "    }\n",
       "</style>\n",
       "<table border=\"1\" class=\"dataframe\">\n",
       "  <thead>\n",
       "    <tr style=\"text-align: right;\">\n",
       "      <th></th>\n",
       "      <th>Date</th>\n",
       "      <th>Customer_Code</th>\n",
       "      <th>Employee_Index</th>\n",
       "      <th>Country</th>\n",
       "      <th>Gender</th>\n",
       "      <th>Age</th>\n",
       "      <th>Customer_Join_Date</th>\n",
       "      <th>Customer_Index</th>\n",
       "      <th>Customer_Seniority</th>\n",
       "      <th>Primary_Customer</th>\n",
       "      <th>...</th>\n",
       "      <th>Foriegner_Index</th>\n",
       "      <th>Spouse_Index</th>\n",
       "      <th>Channel_Used</th>\n",
       "      <th>Deceased_Index</th>\n",
       "      <th>Primary_Address</th>\n",
       "      <th>Customer_Address</th>\n",
       "      <th>Province</th>\n",
       "      <th>Activity_Index</th>\n",
       "      <th>Gross_Income</th>\n",
       "      <th>Segmentation</th>\n",
       "    </tr>\n",
       "  </thead>\n",
       "  <tbody>\n",
       "    <tr>\n",
       "      <th>0</th>\n",
       "      <td>2016-06-28 00:00:00</td>\n",
       "      <td>15889</td>\n",
       "      <td>Employee Relative</td>\n",
       "      <td>ES</td>\n",
       "      <td>Female</td>\n",
       "      <td>56</td>\n",
       "      <td>1995-01-16 00:00:00</td>\n",
       "      <td>Old_Customer</td>\n",
       "      <td>256</td>\n",
       "      <td>1</td>\n",
       "      <td>...</td>\n",
       "      <td>No</td>\n",
       "      <td>No</td>\n",
       "      <td>KAT</td>\n",
       "      <td>No</td>\n",
       "      <td>1</td>\n",
       "      <td>28.0</td>\n",
       "      <td>MADRID</td>\n",
       "      <td>Active Customer</td>\n",
       "      <td>326124.90</td>\n",
       "      <td>VIP</td>\n",
       "    </tr>\n",
       "    <tr>\n",
       "      <th>1</th>\n",
       "      <td>2016-06-28 00:00:00</td>\n",
       "      <td>1170544</td>\n",
       "      <td>Not An Employee</td>\n",
       "      <td>ES</td>\n",
       "      <td>Male</td>\n",
       "      <td>36</td>\n",
       "      <td>2013-08-28 00:00:00</td>\n",
       "      <td>Old_Customer</td>\n",
       "      <td>34</td>\n",
       "      <td>1</td>\n",
       "      <td>...</td>\n",
       "      <td>No</td>\n",
       "      <td>Not Applicable</td>\n",
       "      <td>KAT</td>\n",
       "      <td>No</td>\n",
       "      <td>1</td>\n",
       "      <td>3.0</td>\n",
       "      <td>ALICANTE</td>\n",
       "      <td>Inactive Customer</td>\n",
       "      <td>NA</td>\n",
       "      <td>Individuals</td>\n",
       "    </tr>\n",
       "    <tr>\n",
       "      <th>2</th>\n",
       "      <td>2016-06-28 00:00:00</td>\n",
       "      <td>1170545</td>\n",
       "      <td>Not An Employee</td>\n",
       "      <td>ES</td>\n",
       "      <td>Female</td>\n",
       "      <td>22</td>\n",
       "      <td>2013-08-28 00:00:00</td>\n",
       "      <td>Old_Customer</td>\n",
       "      <td>34</td>\n",
       "      <td>1</td>\n",
       "      <td>...</td>\n",
       "      <td>No</td>\n",
       "      <td>Not Applicable</td>\n",
       "      <td>KHE</td>\n",
       "      <td>No</td>\n",
       "      <td>1</td>\n",
       "      <td>15.0</td>\n",
       "      <td>CORUÑA, A</td>\n",
       "      <td>Active Customer</td>\n",
       "      <td>NA</td>\n",
       "      <td>College Graduate</td>\n",
       "    </tr>\n",
       "    <tr>\n",
       "      <th>3</th>\n",
       "      <td>2016-06-28 00:00:00</td>\n",
       "      <td>1170547</td>\n",
       "      <td>Not An Employee</td>\n",
       "      <td>ES</td>\n",
       "      <td>Male</td>\n",
       "      <td>22</td>\n",
       "      <td>2013-08-28 00:00:00</td>\n",
       "      <td>Old_Customer</td>\n",
       "      <td>34</td>\n",
       "      <td>1</td>\n",
       "      <td>...</td>\n",
       "      <td>No</td>\n",
       "      <td>Not Applicable</td>\n",
       "      <td>KHE</td>\n",
       "      <td>No</td>\n",
       "      <td>1</td>\n",
       "      <td>8.0</td>\n",
       "      <td>BARCELONA</td>\n",
       "      <td>Inactive Customer</td>\n",
       "      <td>148402.98</td>\n",
       "      <td>College Graduate</td>\n",
       "    </tr>\n",
       "    <tr>\n",
       "      <th>4</th>\n",
       "      <td>2016-06-28 00:00:00</td>\n",
       "      <td>1170548</td>\n",
       "      <td>Not An Employee</td>\n",
       "      <td>ES</td>\n",
       "      <td>Male</td>\n",
       "      <td>22</td>\n",
       "      <td>2013-08-28 00:00:00</td>\n",
       "      <td>Old_Customer</td>\n",
       "      <td>34</td>\n",
       "      <td>1</td>\n",
       "      <td>...</td>\n",
       "      <td>No</td>\n",
       "      <td>Not Applicable</td>\n",
       "      <td>KHE</td>\n",
       "      <td>No</td>\n",
       "      <td>1</td>\n",
       "      <td>7.0</td>\n",
       "      <td>BALEARS, ILLES</td>\n",
       "      <td>Inactive Customer</td>\n",
       "      <td>106885.80</td>\n",
       "      <td>College Graduate</td>\n",
       "    </tr>\n",
       "  </tbody>\n",
       "</table>\n",
       "<p>5 rows × 24 columns</p>\n",
       "</div>"
      ],
      "text/plain": [
       "                  Date Customer_Code     Employee_Index Country  Gender Age  \\\n",
       "0  2016-06-28 00:00:00         15889  Employee Relative      ES  Female  56   \n",
       "1  2016-06-28 00:00:00       1170544    Not An Employee      ES    Male  36   \n",
       "2  2016-06-28 00:00:00       1170545    Not An Employee      ES  Female  22   \n",
       "3  2016-06-28 00:00:00       1170547    Not An Employee      ES    Male  22   \n",
       "4  2016-06-28 00:00:00       1170548    Not An Employee      ES    Male  22   \n",
       "\n",
       "    Customer_Join_Date Customer_Index  Customer_Seniority Primary_Customer  \\\n",
       "0  1995-01-16 00:00:00   Old_Customer                 256                1   \n",
       "1  2013-08-28 00:00:00   Old_Customer                  34                1   \n",
       "2  2013-08-28 00:00:00   Old_Customer                  34                1   \n",
       "3  2013-08-28 00:00:00   Old_Customer                  34                1   \n",
       "4  2013-08-28 00:00:00   Old_Customer                  34                1   \n",
       "\n",
       "   ... Foriegner_Index    Spouse_Index Channel_Used Deceased_Index  \\\n",
       "0  ...              No              No          KAT             No   \n",
       "1  ...              No  Not Applicable          KAT             No   \n",
       "2  ...              No  Not Applicable          KHE             No   \n",
       "3  ...              No  Not Applicable          KHE             No   \n",
       "4  ...              No  Not Applicable          KHE             No   \n",
       "\n",
       "  Primary_Address Customer_Address        Province     Activity_Index  \\\n",
       "0               1             28.0          MADRID    Active Customer   \n",
       "1               1              3.0        ALICANTE  Inactive Customer   \n",
       "2               1             15.0       CORUÑA, A    Active Customer   \n",
       "3               1              8.0       BARCELONA  Inactive Customer   \n",
       "4               1              7.0  BALEARS, ILLES  Inactive Customer   \n",
       "\n",
       "  Gross_Income      Segmentation  \n",
       "0    326124.90               VIP  \n",
       "1           NA       Individuals  \n",
       "2           NA  College Graduate  \n",
       "3    148402.98  College Graduate  \n",
       "4    106885.80  College Graduate  \n",
       "\n",
       "[5 rows x 24 columns]"
      ]
     },
     "execution_count": 76,
     "metadata": {},
     "output_type": "execute_result"
    }
   ],
   "source": [
    "#cleaned data\n",
    "df.head()"
   ]
  },
  {
   "cell_type": "code",
   "execution_count": 77,
   "id": "8a4aee33",
   "metadata": {},
   "outputs": [
    {
     "data": {
      "text/plain": [
       "(925595, 24)"
      ]
     },
     "execution_count": 77,
     "metadata": {},
     "output_type": "execute_result"
    }
   ],
   "source": [
    "df.shape"
   ]
  },
  {
   "cell_type": "code",
   "execution_count": 78,
   "id": "b6680ea5",
   "metadata": {},
   "outputs": [
    {
     "data": {
      "text/html": [
       "<div>\n",
       "<style scoped>\n",
       "    .dataframe tbody tr th:only-of-type {\n",
       "        vertical-align: middle;\n",
       "    }\n",
       "\n",
       "    .dataframe tbody tr th {\n",
       "        vertical-align: top;\n",
       "    }\n",
       "\n",
       "    .dataframe thead th {\n",
       "        text-align: right;\n",
       "    }\n",
       "</style>\n",
       "<table border=\"1\" class=\"dataframe\">\n",
       "  <thead>\n",
       "    <tr style=\"text-align: right;\">\n",
       "      <th></th>\n",
       "      <th>Customer_Code</th>\n",
       "      <th>Age</th>\n",
       "      <th>Customer_Index</th>\n",
       "      <th>Customer_Seniority</th>\n",
       "      <th>Primary_Customer</th>\n",
       "      <th>Customer_Type</th>\n",
       "      <th>Primary_Address</th>\n",
       "      <th>Customer_Address</th>\n",
       "      <th>Activity_Index</th>\n",
       "    </tr>\n",
       "  </thead>\n",
       "  <tbody>\n",
       "    <tr>\n",
       "      <th>count</th>\n",
       "      <td>9.296150e+05</td>\n",
       "      <td>929615.000000</td>\n",
       "      <td>929615.000000</td>\n",
       "      <td>929615.000000</td>\n",
       "      <td>929615.000000</td>\n",
       "      <td>929592.000000</td>\n",
       "      <td>929615.0</td>\n",
       "      <td>925619.000000</td>\n",
       "      <td>929615.000000</td>\n",
       "    </tr>\n",
       "    <tr>\n",
       "      <th>mean</th>\n",
       "      <td>8.794566e+05</td>\n",
       "      <td>40.249821</td>\n",
       "      <td>0.027849</td>\n",
       "      <td>77.728413</td>\n",
       "      <td>1.177422</td>\n",
       "      <td>1.000058</td>\n",
       "      <td>1.0</td>\n",
       "      <td>26.546150</td>\n",
       "      <td>0.425272</td>\n",
       "    </tr>\n",
       "    <tr>\n",
       "      <th>std</th>\n",
       "      <td>4.481569e+05</td>\n",
       "      <td>17.185119</td>\n",
       "      <td>0.164541</td>\n",
       "      <td>1797.824518</td>\n",
       "      <td>4.166039</td>\n",
       "      <td>0.010779</td>\n",
       "      <td>0.0</td>\n",
       "      <td>12.836614</td>\n",
       "      <td>0.494384</td>\n",
       "    </tr>\n",
       "    <tr>\n",
       "      <th>min</th>\n",
       "      <td>1.588900e+04</td>\n",
       "      <td>2.000000</td>\n",
       "      <td>0.000000</td>\n",
       "      <td>-999999.000000</td>\n",
       "      <td>1.000000</td>\n",
       "      <td>1.000000</td>\n",
       "      <td>1.0</td>\n",
       "      <td>1.000000</td>\n",
       "      <td>0.000000</td>\n",
       "    </tr>\n",
       "    <tr>\n",
       "      <th>25%</th>\n",
       "      <td>4.833615e+05</td>\n",
       "      <td>25.000000</td>\n",
       "      <td>0.000000</td>\n",
       "      <td>23.000000</td>\n",
       "      <td>1.000000</td>\n",
       "      <td>1.000000</td>\n",
       "      <td>1.0</td>\n",
       "      <td>15.000000</td>\n",
       "      <td>0.000000</td>\n",
       "    </tr>\n",
       "    <tr>\n",
       "      <th>50%</th>\n",
       "      <td>9.664250e+05</td>\n",
       "      <td>39.000000</td>\n",
       "      <td>0.000000</td>\n",
       "      <td>55.000000</td>\n",
       "      <td>1.000000</td>\n",
       "      <td>1.000000</td>\n",
       "      <td>1.0</td>\n",
       "      <td>28.000000</td>\n",
       "      <td>0.000000</td>\n",
       "    </tr>\n",
       "    <tr>\n",
       "      <th>75%</th>\n",
       "      <td>1.264316e+06</td>\n",
       "      <td>51.000000</td>\n",
       "      <td>0.000000</td>\n",
       "      <td>136.000000</td>\n",
       "      <td>1.000000</td>\n",
       "      <td>1.000000</td>\n",
       "      <td>1.0</td>\n",
       "      <td>35.000000</td>\n",
       "      <td>1.000000</td>\n",
       "    </tr>\n",
       "    <tr>\n",
       "      <th>max</th>\n",
       "      <td>1.553689e+06</td>\n",
       "      <td>164.000000</td>\n",
       "      <td>1.000000</td>\n",
       "      <td>257.000000</td>\n",
       "      <td>99.000000</td>\n",
       "      <td>3.000000</td>\n",
       "      <td>1.0</td>\n",
       "      <td>52.000000</td>\n",
       "      <td>1.000000</td>\n",
       "    </tr>\n",
       "  </tbody>\n",
       "</table>\n",
       "</div>"
      ],
      "text/plain": [
       "       Customer_Code            Age  Customer_Index  Customer_Seniority  \\\n",
       "count   9.296150e+05  929615.000000   929615.000000       929615.000000   \n",
       "mean    8.794566e+05      40.249821        0.027849           77.728413   \n",
       "std     4.481569e+05      17.185119        0.164541         1797.824518   \n",
       "min     1.588900e+04       2.000000        0.000000      -999999.000000   \n",
       "25%     4.833615e+05      25.000000        0.000000           23.000000   \n",
       "50%     9.664250e+05      39.000000        0.000000           55.000000   \n",
       "75%     1.264316e+06      51.000000        0.000000          136.000000   \n",
       "max     1.553689e+06     164.000000        1.000000          257.000000   \n",
       "\n",
       "       Primary_Customer  Customer_Type  Primary_Address  Customer_Address  \\\n",
       "count     929615.000000  929592.000000         929615.0     925619.000000   \n",
       "mean           1.177422       1.000058              1.0         26.546150   \n",
       "std            4.166039       0.010779              0.0         12.836614   \n",
       "min            1.000000       1.000000              1.0          1.000000   \n",
       "25%            1.000000       1.000000              1.0         15.000000   \n",
       "50%            1.000000       1.000000              1.0         28.000000   \n",
       "75%            1.000000       1.000000              1.0         35.000000   \n",
       "max           99.000000       3.000000              1.0         52.000000   \n",
       "\n",
       "       Activity_Index  \n",
       "count   929615.000000  \n",
       "mean         0.425272  \n",
       "std          0.494384  \n",
       "min          0.000000  \n",
       "25%          0.000000  \n",
       "50%          0.000000  \n",
       "75%          1.000000  \n",
       "max          1.000000  "
      ]
     },
     "execution_count": 78,
     "metadata": {},
     "output_type": "execute_result"
    }
   ],
   "source": [
    "df1.describe()"
   ]
  },
  {
   "cell_type": "code",
   "execution_count": 79,
   "id": "f56143a4",
   "metadata": {},
   "outputs": [
    {
     "data": {
      "text/plain": [
       "Inactive Customer    532434\n",
       "Active Customer      393161\n",
       "Name: Activity_Index, dtype: int64"
      ]
     },
     "execution_count": 79,
     "metadata": {},
     "output_type": "execute_result"
    }
   ],
   "source": [
    "plot4 = df['Activity_Index'].value_counts(dropna = False)\n",
    "plot4"
   ]
  },
  {
   "cell_type": "code",
   "execution_count": 80,
   "id": "2e7fa297",
   "metadata": {},
   "outputs": [],
   "source": [
    "plot4.to_csv('Activity Index.csv')"
   ]
  },
  {
   "cell_type": "code",
   "execution_count": 81,
   "id": "89c21faf",
   "metadata": {},
   "outputs": [
    {
     "data": {
      "image/png": "[encoded data removed]",
      "text/plain": [
       "<Figure size 600x600 with 1 Axes>"
      ]
     },
     "metadata": {},
     "output_type": "display_data"
    }
   ],
   "source": [
    "fig, axes = plt.subplots(figsize = (6,6))\n",
    "axes.bar(plot4.index, plot4.values, width=0.4, color = ['Blue', 'Green'])\n",
    "plt.ylabel('Number of Customers')\n",
    "plt.xlabel('Types of Customers')\n",
    "plt.show()"
   ]
  },
  {
   "cell_type": "code",
   "execution_count": 82,
   "id": "6cf46c89",
   "metadata": {},
   "outputs": [
    {
     "data": {
      "text/plain": [
       "Female    501975\n",
       "Male      423620\n",
       "Name: Gender, dtype: int64"
      ]
     },
     "execution_count": 82,
     "metadata": {},
     "output_type": "execute_result"
    }
   ],
   "source": [
    "gender = df['Gender'].value_counts(dropna = False)\n",
    "gender"
   ]
  },
  {
   "cell_type": "code",
   "execution_count": 83,
   "id": "4fa521a8",
   "metadata": {},
   "outputs": [],
   "source": [
    "gender.to_csv('Gender.csv')"
   ]
  },
  {
   "cell_type": "code",
   "execution_count": 84,
   "id": "cb32043b",
   "metadata": {},
   "outputs": [
    {
     "data": {
      "image/png": "[encoded data removed]",
      "text/plain": [
       "<Figure size 600x600 with 1 Axes>"
      ]
     },
     "metadata": {},
     "output_type": "display_data"
    }
   ],
   "source": [
    "fig, axes = plt.subplots(figsize = (6,6))\n",
    "axes.bar(gender.index, gender.values, width=0.4, color = ['Pink', 'Blue'])\n",
    "plt.ylabel('Number of Customers')\n",
    "plt.xlabel('Gender')\n",
    "axes.legend\n",
    "plt.show()"
   ]
  },
  {
   "cell_type": "code",
   "execution_count": 85,
   "id": "6933e6f3",
   "metadata": {},
   "outputs": [
    {
     "data": {
      "text/plain": [
       "KHE    251397\n",
       "KAT    204277\n",
       "KFC    200157\n",
       "KHQ     74969\n",
       "KHM     33353\n",
       "KFA     25037\n",
       "KHN     18129\n",
       "KHK     16913\n",
       "KHD      7333\n",
       "RED      6285\n",
       "Name: Channel_Used, dtype: int64"
      ]
     },
     "execution_count": 85,
     "metadata": {},
     "output_type": "execute_result"
    }
   ],
   "source": [
    "#top 10 channels\n",
    "\n",
    "channel = df['Channel_Used'].value_counts()\n",
    "channel = channel.sort_values(ascending = False)\n",
    "channel = channel[:10]\n",
    "channel"
   ]
  },
  {
   "cell_type": "code",
   "execution_count": 86,
   "id": "aa23c7ba",
   "metadata": {},
   "outputs": [],
   "source": [
    "channel.to_csv('Channels.csv')"
   ]
  },
  {
   "cell_type": "code",
   "execution_count": 87,
   "id": "f66be95b",
   "metadata": {},
   "outputs": [
    {
     "data": {
      "image/png": "[encoded data removed]",
      "text/plain": [
       "<Figure size 1400x600 with 1 Axes>"
      ]
     },
     "metadata": {},
     "output_type": "display_data"
    }
   ],
   "source": [
    "fig, axes = plt.subplots(figsize = (14,6))\n",
    "axes.barh(channel.index, channel.values)\n",
    "plt.ylabel('Channel Type')\n",
    "plt.xlabel('Number of Customers')\n",
    "axes.set_title('Top 10 channels')\n",
    "axes.legend\n",
    "plt.show()"
   ]
  },
  {
   "cell_type": "code",
   "execution_count": 88,
   "id": "aa2429aa",
   "metadata": {},
   "outputs": [
    {
     "data": {
      "text/plain": [
       "<AxesSubplot:>"
      ]
     },
     "execution_count": 88,
     "metadata": {},
     "output_type": "execute_result"
    },
    {
     "data": {
      "image/png": "[encoded data removed]",
      "text/plain": [
       "<Figure size 2000x2000 with 2 Axes>"
      ]
     },
     "metadata": {},
     "output_type": "display_data"
    }
   ],
   "source": [
    "# calculate correlation matrix\n",
    "#cols = [\"customer_code\", \"employee_index\", \"sex\", \"age\", \"gross_income\", \"residence_index\"]\n",
    "corr = df1.corr()#plot the heatmap\n",
    "\n",
    "# plot the heatmap\n",
    "plt.figure(figsize=(20,20))\n",
    "sns.heatmap(\n",
    "    corr, \n",
    "    square=True, # make cells square\n",
    "    cbar_kws={'fraction' : 0.01}, # shrink colour bar\n",
    "    cmap='OrRd', # use orange/red colour map\n",
    "    linewidth=1 # space between cells\n",
    ")\n"
   ]
  }
 ],
 "metadata": {
  "kernelspec": {
   "display_name": "Python 3 (ipykernel)",
   "language": "python",
   "name": "python3"
  },
  "language_info": {
   "codemirror_mode": {
    "name": "ipython",
    "version": 3
   },
   "file_extension": ".py",
   "mimetype": "text/x-python",
   "name": "python",
   "nbconvert_exporter": "python",
   "pygments_lexer": "ipython3",
   "version": "3.9.13"
  }
 },
 "nbformat": 4,
 "nbformat_minor": 5
}
